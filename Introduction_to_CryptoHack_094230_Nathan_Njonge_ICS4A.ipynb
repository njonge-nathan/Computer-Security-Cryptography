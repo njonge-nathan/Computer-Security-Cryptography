{
  "nbformat": 4,
  "nbformat_minor": 0,
  "metadata": {
    "colab": {
      "name": "Introduction to CryptoHack 094230-Nathan_Njonge_ICS4A.ipynb",
      "provenance": [],
      "authorship_tag": "ABX9TyNGcOswnQ9FH9lBIAWWBZdH",
      "include_colab_link": true
    },
    "kernelspec": {
      "name": "python3",
      "display_name": "Python 3"
    },
    "language_info": {
      "name": "python"
    }
  },
  "cells": [
    {
      "cell_type": "markdown",
      "metadata": {
        "id": "view-in-github",
        "colab_type": "text"
      },
      "source": [
        "<a href=\"https://colab.research.google.com/github/njonge-nathan/Computer-Security-Cryptography/blob/main/Introduction_to_CryptoHack_094230_Nathan_Njonge_ICS4A.ipynb\" target=\"_parent\"><img src=\"https://colab.research.google.com/assets/colab-badge.svg\" alt=\"Open In Colab\"/></a>"
      ]
    },
    {
      "cell_type": "markdown",
      "metadata": {
        "id": "PRw3rZ0ZtDqR"
      },
      "source": [
        "# Finding Flags"
      ]
    },
    {
      "cell_type": "code",
      "metadata": {
        "colab": {
          "base_uri": "https://localhost:8080/"
        },
        "id": "KdjtxBlck85M",
        "outputId": "5621564e-e0d4-4bcf-b874-272555238ddf"
      },
      "source": [
        "import sys\n",
        "if sys.version_info.major == 2:\n",
        "    print(\"You are running Python 2, which is no longer supported. Please update to Python 3.\")\n",
        "\n",
        "ords = [81, 64, 75, 66, 70, 93, 73, 72, 1, 92, 109, 2, 84, 109, 66, 75, 70, 90, 2, 92, 79]\n",
        "\n",
        "print(\"Here is your flag:\")\n",
        "print(\"\".join(chr(o ^ 0x32) for o in ords))"
      ],
      "execution_count": null,
      "outputs": [
        {
          "output_type": "stream",
          "name": "stdout",
          "text": [
            "Here is your flag:\n",
            "crypto{z3n_0f_pyth0n}\n"
          ]
        }
      ]
    },
    {
      "cell_type": "markdown",
      "metadata": {
        "id": "XCJnAvaBtL7x"
      },
      "source": [
        "# ASCII"
      ]
    },
    {
      "cell_type": "code",
      "metadata": {
        "colab": {
          "base_uri": "https://localhost:8080/"
        },
        "id": "0RqdO7axlTdY",
        "outputId": "b41a3c47-cbc7-4b6a-817b-a4056d702d00"
      },
      "source": [
        "ASCII = [99, 114, 121, 112, 116, 111, 123, 65, 83, 67, 73, 73, 95, 112, 114,\n",
        "49, 110, 116, 52, 98, 108, 51, 125]\n",
        "flag = ''\n",
        "\n",
        "for c in ASCII:\n",
        "    flag += chr(c)\n",
        "\n",
        "print(flag)"
      ],
      "execution_count": null,
      "outputs": [
        {
          "output_type": "stream",
          "name": "stdout",
          "text": [
            "crypto{ASCII_pr1nt4bl3}\n"
          ]
        }
      ]
    },
    {
      "cell_type": "markdown",
      "metadata": {
        "id": "8cxdltpVulJD"
      },
      "source": [
        "# Hex"
      ]
    },
    {
      "cell_type": "code",
      "metadata": {
        "colab": {
          "base_uri": "https://localhost:8080/"
        },
        "id": "R9EaqoAJmDtD",
        "outputId": "5b86a913-35d3-4646-bdc3-b3a08ea8a633"
      },
      "source": [
        "from binascii import unhexlify\n",
        "\n",
        "flag = ''\n",
        "unhexlify(b'63727970746f7b596f755f77696c6c5f62655f776f726b696e675f776974685f6865785f737472696e67735f615f6c6f747d')\n",
        "print(flag)"
      ],
      "execution_count": 1,
      "outputs": [
        {
          "output_type": "stream",
          "name": "stdout",
          "text": [
            "\n"
          ]
        }
      ]
    },
    {
      "cell_type": "markdown",
      "metadata": {
        "id": "LUf4V4TAurEX"
      },
      "source": [
        "# Base64"
      ]
    },
    {
      "cell_type": "code",
      "metadata": {
        "colab": {
          "base_uri": "https://localhost:8080/"
        },
        "id": "0rakkJepm0Th",
        "outputId": "426d12ad-5af0-4130-8c81-060defc05ba5"
      },
      "source": [
        "import base64\n",
        "from binascii import unhexlify\n",
        "\n",
        "hex = unhexlify('72bca9b68fc16ac7beeb8f849dca1d8a783e8acf9679bf9269f7bf')\n",
        "flag = base64.b64encode(hex)\n",
        "print(flag)"
      ],
      "execution_count": 4,
      "outputs": [
        {
          "output_type": "stream",
          "name": "stdout",
          "text": [
            "b'crypto/Base+64+Encoding+is+Web+Safe/'\n"
          ]
        }
      ]
    },
    {
      "cell_type": "markdown",
      "metadata": {
        "id": "WI_vxGw4wXIz"
      },
      "source": [
        "# Bytes and Big Integers"
      ]
    },
    {
      "cell_type": "code",
      "metadata": {
        "colab": {
          "base_uri": "https://localhost:8080/"
        },
        "id": "k62zk8C4nuvk",
        "outputId": "67590f98-7cca-4d55-d7b0-a4c1b65a9f4d"
      },
      "source": [
        "data = \"label\"\n",
        "flag = ''\n",
        "\n",
        "for c in data:\n",
        "    flag += chr(ord(c) ^ 13)\n",
        "\n",
        "print('crypto{{{}}}'.format(flag))"
      ],
      "execution_count": 5,
      "outputs": [
        {
          "output_type": "stream",
          "name": "stdout",
          "text": [
            "crypto{aloha}\n"
          ]
        }
      ]
    },
    {
      "cell_type": "markdown",
      "metadata": {
        "id": "ztsDriWxxN3-"
      },
      "source": [
        "# XOR Properties"
      ]
    },
    {
      "cell_type": "code",
      "metadata": {
        "colab": {
          "base_uri": "https://localhost:8080/"
        },
        "id": "xfrY7YXSn5Db",
        "outputId": "2d8cd661-05b6-452d-9ccc-8f411598df04"
      },
      "source": [
        "from binascii import unhexlify\n",
        "\n",
        "def xor_two_str(s1,s2):\n",
        "    if len(s1) != len(s2):\n",
        "        raise \"XOR EXCEPTION: Strings are not of equal length!\"\n",
        "\n",
        "    return ''.join(format(int(a, 16) ^ int(b, 16), 'x') for a,b in zip(s1,s2))\n",
        "\n",
        "\n",
        "KEY1 = \"a6c8b6733c9b22de7bc0253266a3867df55acde8635e19c73313\"\n",
        "\n",
        "KEY2 = xor_two_str(\"37dcb292030faa90d07eec17e3b1c6d8daf94c35d4c9191a5e1e\", KEY1)\n",
        "print(\"[-] KEY2: {}\".format(KEY2))\n",
        "\n",
        "KEY3 = xor_two_str(\"c1545756687e7573db23aa1c3452a098b71a7fbf0fddddde5fc1\", KEY2)\n",
        "print(\"[-] KEY3: {}\".format(KEY3))\n",
        "\n",
        "KEY4 = xor_two_str(xor_two_str(KEY1, KEY2), KEY3)\n",
        "print(\"[-] KEY4: {}\\n\".format(KEY4))\n",
        "\n",
        "FLAG = xor_two_str(\"04ee9855208a2cd59091d04767ae47963170d1660df7f56f5faf\", KEY4)\n",
        "print(\"[*] FLAG: {}\".format(unhexlify(FLAG)))"
      ],
      "execution_count": null,
      "outputs": [
        {
          "output_type": "stream",
          "name": "stdout",
          "text": [
            "[-] KEY2: 911404e13f94884eabbec925851240a52fa381ddb79700dd6d0d\n",
            "[-] KEY3: 504053b757eafd3d709d6339b140e03d98b9fe62b84add0332cc\n",
            "[-] KEY4: 679ce12554e557ada0e38f2e52f126e54240b2576c83c4196cd2\n",
            "\n",
            "[*] FLAG: b'crypto{x0r_i5_ass0c1at1v3}'\n"
          ]
        }
      ]
    },
    {
      "cell_type": "markdown",
      "metadata": {
        "id": "CBDHJP_fu9Ac"
      },
      "source": [
        "# Favourite byte"
      ]
    },
    {
      "cell_type": "code",
      "metadata": {
        "colab": {
          "base_uri": "https://localhost:8080/"
        },
        "id": "fa60RSF1rGBD",
        "outputId": "77c83059-20e4-40f0-f0b6-4d42a1c84250"
      },
      "source": [
        "from binascii import unhexlify\n",
        "import string\n",
        "\n",
        "def single_byte_xor(input, key):\n",
        "    if len(chr(key)) != 1:\n",
        "      raise \"KEY LENGTH EXCEPTION: In single_byte_xor key must be 1 byte long!\"\n",
        "\n",
        "    output = b''\n",
        "    for b in input:\n",
        "        output += bytes([b ^ key])\n",
        "\n",
        "    try:\n",
        "        return output.decode(\"utf-8\")\n",
        "    except:\n",
        "        return \"Cannot Decode some bytes\"\n",
        "\n",
        "data = \"73626960647f6b206821204f21254f7d694f7624662065622127234f726927756d\"\n",
        "decoded = unhexlify(data)\n",
        "\n",
        "print(\"[-] HEX_DECODE: {}\\n\".format(decoded))\n",
        "\n",
        "result = {}\n",
        "for i in range(256):\n",
        "    result[i] = (single_byte_xor(decoded, i))\n",
        "    #print(\"[-] KEY: {}\\nSTRING: {}\".format(i,single_byte_xor(decoded, i)))\n",
        "\n",
        "print(\"[*] FLAG: {}\".format([s for s in result.values() if \"crypto\" in s]))"
      ],
      "execution_count": null,
      "outputs": [
        {
          "output_type": "stream",
          "name": "stdout",
          "text": [
            "[-] HEX_DECODE: b\"sbi`d\\x7fk h! O!%O}iOv$f eb!'#Ori'um\"\n",
            "\n",
            "[*] FLAG: ['crypto{0x10_15_my_f4v0ur173_by7e}']\n"
          ]
        }
      ]
    },
    {
      "cell_type": "markdown",
      "metadata": {
        "id": "1Ivrpy8fxhrP"
      },
      "source": [
        "# You either know, XOR you don't"
      ]
    },
    {
      "cell_type": "code",
      "metadata": {
        "colab": {
          "base_uri": "https://localhost:8080/"
        },
        "id": "Yfsw8MxIrUoN",
        "outputId": "232b22cf-a51b-4ea6-e928-1cb582f8f038"
      },
      "source": [
        "from binascii import unhexlify\n",
        "\n",
        "def brute(input, key):\n",
        "    if len(input) != len(key):\n",
        "        return \"Failed!\"\n",
        "\n",
        "    output = b''\n",
        "    for b1, b2 in zip(input, key):\n",
        "        output += bytes([b1 ^ b2])\n",
        "    try:\n",
        "        return output.decode(\"utf-8\")\n",
        "    except:\n",
        "        return \"Cannot Decode some bytes\"\n",
        "\n",
        "data = \"0e0b213f26041e480b26217f27342e175d0e070a3c5b103e2526217f27342e175d0e077e263451150104\"\n",
        "cipher = unhexlify(data)\n",
        "print(\"[-] CIPHER: {}\".format(cipher))\n",
        "\n",
        "# First Step\n",
        "key_part = brute(cipher[:7], \"crypto{\".encode())\n",
        "print(\"[-] PARTIAL KEY FOUND: {}\".format(key_part))\n",
        "\n",
        "# Second Step\n",
        "key = (key_part + \"y\").encode()\n",
        "key += key * int((len(cipher) - len(key))/len(key))\n",
        "key += key[:((len(cipher) - len(key))%len(key))]\n",
        "print(\"[-] Decoding using KEY: {}\".format(key))\n",
        "\n",
        "plain = brute(cipher, key)\n",
        "print(\"\\n[*] FLAG: {}\".format(plain))"
      ],
      "execution_count": null,
      "outputs": [
        {
          "output_type": "stream",
          "name": "stdout",
          "text": [
            "[-] CIPHER: b\"\\x0e\\x0b!?&\\x04\\x1eH\\x0b&!\\x7f'4.\\x17]\\x0e\\x07\\n<[\\x10>%&!\\x7f'4.\\x17]\\x0e\\x07~&4Q\\x15\\x01\\x04\"\n",
            "[-] PARTIAL KEY FOUND: myXORke\n",
            "[-] Decoding using KEY: b'myXORkeymyXORkeymyXORkeymyXORkeymyXORkeymy'\n",
            "\n",
            "[*] FLAG: crypto{1f_y0u_Kn0w_En0uGH_y0u_Kn0w_1t_4ll}\n"
          ]
        }
      ]
    }
  ]
}